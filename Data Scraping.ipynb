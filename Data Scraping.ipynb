{
 "cells": [
  {
   "cell_type": "code",
   "execution_count": 1,
   "id": "3f784697-67f9-4118-9a1c-da47f40ffaf2",
   "metadata": {},
   "outputs": [
    {
     "name": "stdout",
     "output_type": "stream",
     "text": [
      "Requirement already satisfied: requests in c:\\users\\hp\\anaconda3\\lib\\site-packages (2.32.3)\n",
      "Requirement already satisfied: beautifulsoup4 in c:\\users\\hp\\anaconda3\\lib\\site-packages (4.12.3)\n",
      "Requirement already satisfied: pandas in c:\\users\\hp\\anaconda3\\lib\\site-packages (2.2.2)\n",
      "Requirement already satisfied: openpyxl in c:\\users\\hp\\anaconda3\\lib\\site-packages (3.1.5)\n",
      "Requirement already satisfied: charset-normalizer<4,>=2 in c:\\users\\hp\\anaconda3\\lib\\site-packages (from requests) (3.3.2)\n",
      "Requirement already satisfied: idna<4,>=2.5 in c:\\users\\hp\\anaconda3\\lib\\site-packages (from requests) (3.7)\n",
      "Requirement already satisfied: urllib3<3,>=1.21.1 in c:\\users\\hp\\anaconda3\\lib\\site-packages (from requests) (2.2.3)\n",
      "Requirement already satisfied: certifi>=2017.4.17 in c:\\users\\hp\\anaconda3\\lib\\site-packages (from requests) (2024.8.30)\n",
      "Requirement already satisfied: soupsieve>1.2 in c:\\users\\hp\\anaconda3\\lib\\site-packages (from beautifulsoup4) (2.5)\n",
      "Requirement already satisfied: numpy>=1.26.0 in c:\\users\\hp\\anaconda3\\lib\\site-packages (from pandas) (1.26.4)\n",
      "Requirement already satisfied: python-dateutil>=2.8.2 in c:\\users\\hp\\anaconda3\\lib\\site-packages (from pandas) (2.9.0.post0)\n",
      "Requirement already satisfied: pytz>=2020.1 in c:\\users\\hp\\anaconda3\\lib\\site-packages (from pandas) (2024.1)\n",
      "Requirement already satisfied: tzdata>=2022.7 in c:\\users\\hp\\anaconda3\\lib\\site-packages (from pandas) (2023.3)\n",
      "Requirement already satisfied: et-xmlfile in c:\\users\\hp\\anaconda3\\lib\\site-packages (from openpyxl) (1.1.0)\n",
      "Requirement already satisfied: six>=1.5 in c:\\users\\hp\\anaconda3\\lib\\site-packages (from python-dateutil>=2.8.2->pandas) (1.16.0)\n",
      "Note: you may need to restart the kernel to use updated packages.\n"
     ]
    }
   ],
   "source": [
    "pip install requests beautifulsoup4 pandas openpyxl\n"
   ]
  },
  {
   "cell_type": "code",
   "execution_count": 2,
   "id": "05e23483-046a-4087-9a34-75a06866c0f2",
   "metadata": {},
   "outputs": [],
   "source": [
    "import requests\n",
    "from bs4 import BeautifulSoup\n",
    "import pandas as pd\n",
    "import time"
   ]
  },
  {
   "cell_type": "code",
   "execution_count": 3,
   "id": "b04d28ec-13ac-4bc0-8c58-120cebda8622",
   "metadata": {},
   "outputs": [],
   "source": [
    "headers = {\n",
    "    \"User-Agent\": \"Mozilla/5.0 (Windows NT 10.0; Win64; x64) AppleWebKit/537.36 (KHTML, like Gecko) Chrome/115.0.0.0 Safari/537.36\"\n",
    "}"
   ]
  },
  {
   "cell_type": "code",
   "execution_count": 5,
   "id": "eed3aaca-e34f-4090-aeae-74f897111a6c",
   "metadata": {},
   "outputs": [],
   "source": [
    "base_url = \"https://www.amazon.in/s?k=women+clothing&crid=UX6IQ6SOP3IE&sprefix=women+clo%2Caps%2C198&ref=nb_sb_ss_mvt-t11-ranker_4_9\"\n"
   ]
  },
  {
   "cell_type": "code",
   "execution_count": 6,
   "id": "d5c15731-b79f-4ada-aa2d-1ebd0d7db97e",
   "metadata": {},
   "outputs": [],
   "source": [
    "all_products = []\n"
   ]
  },
  {
   "cell_type": "code",
   "execution_count": 8,
   "id": "2cbbbcc1-f290-414c-a756-44291ab93929",
   "metadata": {},
   "outputs": [
    {
     "name": "stdout",
     "output_type": "stream",
     "text": [
      "Scraping page 1...\n",
      "Scraping page 2...\n",
      "Scraping page 3...\n",
      "Scraping page 4...\n",
      "Scraping page 5...\n"
     ]
    }
   ],
   "source": [
    "for page in range(1, 6):\n",
    "    print(f\"Scraping page {page}...\")\n",
    "    url = base_url.format(page)\n",
    "    response = requests.get(url, headers=headers)\n",
    "    soup = BeautifulSoup(response.content, \"html.parser\")\n",
    "\n",
    "    products = soup.find_all(\"div\", {\"data-component-type\": \"s-search-result\"})\n",
    "\n",
    "    for product in products:\n",
    "        # Title\n",
    "        title = product.h2.text.strip() if product.h2 else None\n",
    "\n",
    "        # Product URL\n",
    "    if product.h2 and product.h2.a and \"href\" in product.h2.a.attrs:\n",
    "        link = \"https://www.amazon.in\" + product.h2.a[\"href\"]\n",
    "    else:\n",
    "        link = None\n",
    "        # Price\n",
    "        price_tag = product.find(\"span\", class_=\"a-price-whole\")\n",
    "        price = price_tag.text.strip().replace(\",\", \"\") if price_tag else None\n",
    "\n",
    "        # Rating\n",
    "        rating_tag = product.find(\"span\", class_=\"a-icon-alt\")\n",
    "        rating = rating_tag.text.strip().split()[0] if rating_tag else None\n",
    "\n",
    "        # Reviews\n",
    "        review_tag = product.find(\"span\", class_=\"a-size-base\")\n",
    "        reviews = review_tag.text.strip().replace(\",\", \"\") if review_tag else None\n",
    "\n",
    "        all_products.append({\n",
    "            \"Title\": title,\n",
    "            \"Price\": price,\n",
    "            \"Rating\": rating,\n",
    "            \"Reviews\": reviews,\n",
    "            \"Product URL\": link\n",
    "        })\n",
    "\n",
    "    time.sleep(2)  # Be respectful to Amazon's server"
   ]
  },
  {
   "cell_type": "code",
   "execution_count": 9,
   "id": "de542b4e-8474-4413-ba67-66028f17cd24",
   "metadata": {},
   "outputs": [],
   "source": [
    "df = pd.DataFrame(all_products)"
   ]
  },
  {
   "cell_type": "code",
   "execution_count": 10,
   "id": "245f84fe-b630-4ab8-af82-837d3ebf250f",
   "metadata": {},
   "outputs": [],
   "source": [
    "# Convert columns to proper datatypes\n",
    "df[\"Price\"] = pd.to_numeric(df[\"Price\"], errors=\"coerce\")\n",
    "df[\"Rating\"] = pd.to_numeric(df[\"Rating\"], errors=\"coerce\")\n",
    "df[\"Reviews\"] = pd.to_numeric(df[\"Reviews\"], errors=\"coerce\")"
   ]
  },
  {
   "cell_type": "code",
   "execution_count": 11,
   "id": "28d67e70-ddcc-4d36-90f5-ac993d7d10dd",
   "metadata": {},
   "outputs": [],
   "source": [
    "df = df.dropna(subset=[\"Title\"]).reset_index(drop=True)"
   ]
  },
  {
   "cell_type": "code",
   "execution_count": 12,
   "id": "3aa34cbe-10e8-489f-9445-9bf4dfcd9d85",
   "metadata": {},
   "outputs": [
    {
     "name": "stdout",
     "output_type": "stream",
     "text": [
      "✅ Data saved to amazon_women_clothing.xlsx\n"
     ]
    }
   ],
   "source": [
    "df.to_excel(\"amazon_women_clothing.xlsx\", index=False)\n",
    "print(\"Data saved to amazon_women_clothing.xlsx\")"
   ]
  },
  {
   "cell_type": "code",
   "execution_count": null,
   "id": "87b872bf-1958-4f62-9a78-b8d2c1ecbf06",
   "metadata": {},
   "outputs": [],
   "source": []
  }
 ],
 "metadata": {
  "kernelspec": {
   "display_name": "Python 3 (ipykernel)",
   "language": "python",
   "name": "python3"
  },
  "language_info": {
   "codemirror_mode": {
    "name": "ipython",
    "version": 3
   },
   "file_extension": ".py",
   "mimetype": "text/x-python",
   "name": "python",
   "nbconvert_exporter": "python",
   "pygments_lexer": "ipython3",
   "version": "3.12.7"
  }
 },
 "nbformat": 4,
 "nbformat_minor": 5
}
